{
 "cells": [
  {
   "cell_type": "code",
   "execution_count": 4,
   "id": "17c7b4ff",
   "metadata": {},
   "outputs": [],
   "source": [
    "from flask import Flask,render_template,url_for"
   ]
  },
  {
   "cell_type": "code",
   "execution_count": 5,
   "id": "9bc73f33",
   "metadata": {},
   "outputs": [],
   "source": [
    "app = Flask(__name__)"
   ]
  },
  {
   "cell_type": "code",
   "execution_count": null,
   "id": "2065468f",
   "metadata": {},
   "outputs": [],
   "source": [
    "@app.route('/')\n",
    "def my_home():\n",
    "    return render_template('index.html')\n"
   ]
  }
 ],
 "metadata": {
  "kernelspec": {
   "display_name": "Python 3 (ipykernel)",
   "language": "python",
   "name": "python3"
  },
  "language_info": {
   "codemirror_mode": {
    "name": "ipython",
    "version": 3
   },
   "file_extension": ".py",
   "mimetype": "text/x-python",
   "name": "python",
   "nbconvert_exporter": "python",
   "pygments_lexer": "ipython3",
   "version": "3.9.12"
  }
 },
 "nbformat": 4,
 "nbformat_minor": 5
}
